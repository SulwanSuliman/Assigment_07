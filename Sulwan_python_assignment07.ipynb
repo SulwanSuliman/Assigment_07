{
  "cells": [
    {
      "cell_type": "markdown",
      "metadata": {
        "id": "bF8UcJombcmb"
      },
      "source": [
        "## Exercises\n",
        "\n",
        "Answer the questions or complete the tasks outlined in bold below, use the specific method described if applicable."
      ]
    },
    {
      "cell_type": "markdown",
      "metadata": {
        "id": "83zAHNLzbcme"
      },
      "source": [
        "** What is 7 to the power of 4?**"
      ]
    },
    {
      "cell_type": "code",
      "execution_count": null,
      "metadata": {
        "id": "GAjLi_Y_bcme",
        "outputId": "e80e0fce-9c3c-469b-b6b1-bdc138383864"
      },
      "outputs": [
        {
          "data": {
            "text/plain": [
              "2401"
            ]
          },
          "execution_count": 1,
          "metadata": {},
          "output_type": "execute_result"
        }
      ],
      "source": [
        "pow(7,4)"
      ]
    },
    {
      "cell_type": "markdown",
      "metadata": {
        "id": "XCaqYNnzbcmf"
      },
      "source": [
        "** Split this string:**\n",
        "\n",
        "    s = \"Hi there Sam!\"\n",
        "    \n",
        "**into a list. **"
      ]
    },
    {
      "cell_type": "code",
      "execution_count": 2,
      "metadata": {
        "collapsed": true,
        "id": "d9VtWxOJbcmf",
        "colab": {
          "base_uri": "https://localhost:8080/"
        },
        "outputId": "7f63f817-da90-4577-817a-973e15c327b9"
      },
      "outputs": [
        {
          "output_type": "stream",
          "name": "stdout",
          "text": [
            "['Hi', 'there', 'Sam!']\n"
          ]
        }
      ],
      "source": [
        "s = \"Hi there Sam!\"\n",
        "print(list(s.split()))\n"
      ]
    },
    {
      "cell_type": "code",
      "execution_count": null,
      "metadata": {
        "id": "xXeME2cMbcmf",
        "outputId": "6d573cc2-68fe-49d6-de61-003ea73dc5d7"
      },
      "outputs": [
        {
          "data": {
            "text/plain": [
              "['Hi', 'there', 'dad!']"
            ]
          },
          "execution_count": 3,
          "metadata": {},
          "output_type": "execute_result"
        }
      ],
      "source": []
    },
    {
      "cell_type": "markdown",
      "metadata": {
        "id": "i_9a_9s3bcmg"
      },
      "source": [
        "** Given the variables:**\n",
        "\n",
        "    planet = \"Earth\"\n",
        "    diameter = 12742\n",
        "\n",
        "** Use .format() to print the following string: **\n",
        "\n",
        "    The diameter of Earth is 12742 kilometers."
      ]
    },
    {
      "cell_type": "code",
      "execution_count": null,
      "metadata": {
        "collapsed": true,
        "id": "f39roh4Sbcmg",
        "colab": {
          "base_uri": "https://localhost:8080/"
        },
        "outputId": "aa2e7f9f-fe1d-40db-a63b-b174a035de3c"
      },
      "outputs": [
        {
          "output_type": "stream",
          "name": "stdout",
          "text": [
            "The diameter of Earth is 12742 kilometers\n"
          ]
        }
      ],
      "source": [
        "planet = \"Earth\"\n",
        "diameter = 12742\n",
        "print(\"The diameter of {0} is {1} kilometers\".format(planet,diameter))"
      ]
    },
    {
      "cell_type": "code",
      "execution_count": null,
      "metadata": {
        "id": "-z1exKrqbcmh",
        "outputId": "f49c6f99-316a-4fd3-ab15-1e92e56ae1d4"
      },
      "outputs": [
        {
          "name": "stdout",
          "output_type": "stream",
          "text": [
            "The diameter of Earth is 12742 kilometers.\n"
          ]
        }
      ],
      "source": []
    },
    {
      "cell_type": "markdown",
      "metadata": {
        "id": "wmUCLmoJbcmh"
      },
      "source": [
        "** Given this nested list, use indexing to grab the word \"hello\" **"
      ]
    },
    {
      "cell_type": "code",
      "execution_count": null,
      "metadata": {
        "collapsed": true,
        "id": "JNxqTGn6bcmh"
      },
      "outputs": [],
      "source": [
        "lst = [1,2,[3,4],[5,[100,200,['hello']],23,11],1,7]"
      ]
    },
    {
      "cell_type": "code",
      "execution_count": null,
      "metadata": {
        "id": "Vk1jFNtObcmh",
        "outputId": "4f8d6d26-b262-4d45-ad20-047836e7f2d6",
        "colab": {
          "base_uri": "https://localhost:8080/",
          "height": 36
        }
      },
      "outputs": [
        {
          "output_type": "execute_result",
          "data": {
            "text/plain": [
              "'hello'"
            ],
            "application/vnd.google.colaboratory.intrinsic+json": {
              "type": "string"
            }
          },
          "metadata": {},
          "execution_count": 6
        }
      ],
      "source": [
        "lst[3][1][2][0]"
      ]
    },
    {
      "cell_type": "markdown",
      "metadata": {
        "id": "vXM_4WSgbcmi"
      },
      "source": [
        "** Given this nested dictionary grab the word \"hello\". Be prepared, this will be annoying/tricky **"
      ]
    },
    {
      "cell_type": "code",
      "execution_count": null,
      "metadata": {
        "id": "2YyTdRe5bcmi"
      },
      "outputs": [],
      "source": [
        "d = {'k1':[1,2,3,{'tricky':['oh','man','inception',{'target':[1,2,3,'hello']}]}]}"
      ]
    },
    {
      "cell_type": "code",
      "execution_count": null,
      "metadata": {
        "id": "WcJ98lZCbcmi",
        "outputId": "df4d4265-2483-4e39-af1d-063452763838",
        "colab": {
          "base_uri": "https://localhost:8080/",
          "height": 36
        }
      },
      "outputs": [
        {
          "output_type": "execute_result",
          "data": {
            "text/plain": [
              "'hello'"
            ],
            "application/vnd.google.colaboratory.intrinsic+json": {
              "type": "string"
            }
          },
          "metadata": {},
          "execution_count": 12
        }
      ],
      "source": [
        "d['k1'][3]['tricky'][3]['target'][3]"
      ]
    },
    {
      "cell_type": "markdown",
      "metadata": {
        "id": "Lwya_Y-Zbcmi"
      },
      "source": [
        "** What is the main difference between a tuple and a list? **"
      ]
    },
    {
      "cell_type": "code",
      "execution_count": null,
      "metadata": {
        "collapsed": true,
        "id": "Zcda-ed_bcmi"
      },
      "outputs": [],
      "source": [
        "# Tuple is immutable"
      ]
    },
    {
      "cell_type": "markdown",
      "metadata": {
        "id": "NFNRBXIWbcmi"
      },
      "source": [
        "** Create a function that grabs the email website domain from a string in the form: **\n",
        "\n",
        "    user@domain.com\n",
        "    \n",
        "**So for example, passing \"user@domain.com\" would return: domain.com**"
      ]
    },
    {
      "cell_type": "code",
      "execution_count": null,
      "metadata": {
        "collapsed": true,
        "id": "Nej0PlKibcmj"
      },
      "outputs": [],
      "source": [
        "def domainGet(user_email):\n",
        " user_email = user_email[user_email.index('@')+1:]\n",
        " return user_email"
      ]
    },
    {
      "cell_type": "code",
      "execution_count": null,
      "metadata": {
        "id": "8GDF5l-abcmj",
        "outputId": "ebbe4521-44e9-41c8-f8ff-6464f5b994f1"
      },
      "outputs": [
        {
          "data": {
            "text/plain": [
              "'domain.com'"
            ]
          },
          "execution_count": 26,
          "metadata": {},
          "output_type": "execute_result"
        }
      ],
      "source": [
        "domainGet('user@domain.com')"
      ]
    },
    {
      "cell_type": "markdown",
      "metadata": {
        "id": "9ZziHHv_bcmj"
      },
      "source": [
        "** Create a basic function that returns True if the word 'dog' is contained in the input string. Don't worry about edge cases like a punctuation being attached to the word dog, but do account for capitalization. **"
      ]
    },
    {
      "cell_type": "code",
      "execution_count": null,
      "metadata": {
        "collapsed": true,
        "id": "0rWUyxONbcmj"
      },
      "outputs": [],
      "source": [
        "def findDog(input_string):\n",
        " dog_find = input_string.find('dog')\n",
        " if dog_find !=-1:\n",
        "   return True\n",
        " else:\n",
        "  return False\n",
        ""
      ]
    },
    {
      "cell_type": "code",
      "execution_count": null,
      "metadata": {
        "id": "MQxfrjh0bcmj",
        "outputId": "12655462-16cb-405c-9d66-2138d167a602"
      },
      "outputs": [
        {
          "data": {
            "text/plain": [
              "True"
            ]
          },
          "execution_count": 28,
          "metadata": {},
          "output_type": "execute_result"
        }
      ],
      "source": [
        "findDog('Is there a dog here?')"
      ]
    },
    {
      "cell_type": "markdown",
      "metadata": {
        "id": "lnFTYakgbcmj"
      },
      "source": [
        "** Create a function that counts the number of times the word \"dog\" occurs in a string. Again ignore edge cases. **"
      ]
    },
    {
      "cell_type": "code",
      "execution_count": null,
      "metadata": {
        "id": "jFYfPGeDbcmj"
      },
      "outputs": [],
      "source": [
        "def countDog(input_string):\n",
        " return input_string.count('dog')"
      ]
    },
    {
      "cell_type": "code",
      "execution_count": null,
      "metadata": {
        "id": "-lsQcfU0bcmj",
        "outputId": "87df7507-ba82-42ef-83f8-c97ed6f56b92"
      },
      "outputs": [
        {
          "data": {
            "text/plain": [
              "2"
            ]
          },
          "execution_count": 31,
          "metadata": {},
          "output_type": "execute_result"
        }
      ],
      "source": [
        "countDog('This dog runs faster than the other dog dude!')"
      ]
    },
    {
      "cell_type": "markdown",
      "metadata": {
        "id": "odqdcp6fbcmj"
      },
      "source": [
        "** Use lambda expressions and the filter() function to filter out words from a list that don't start with the letter 's'. For example:**\n",
        "\n",
        "    seq = ['soup','dog','salad','cat','great']\n",
        "\n",
        "**should be filtered down to:**\n",
        "\n",
        "    ['soup','salad']"
      ]
    },
    {
      "cell_type": "code",
      "execution_count": null,
      "metadata": {
        "collapsed": true,
        "id": "M_yhXSc4bcmk"
      },
      "outputs": [],
      "source": [
        "seq = ['soup','dog','salad','cat','great']"
      ]
    },
    {
      "cell_type": "code",
      "execution_count": null,
      "metadata": {
        "id": "tmyK_ISNbcmk",
        "outputId": "6489a4f2-8000-4a25-92d0-22559763072c"
      },
      "outputs": [
        {
          "data": {
            "text/plain": [
              "['soup', 'salad']"
            ]
          },
          "execution_count": 35,
          "metadata": {},
          "output_type": "execute_result"
        }
      ],
      "source": [
        "result = list(filter(lambda input_string:input_string.startswith('s'),seq))\n",
        "\n",
        "print(result)"
      ]
    },
    {
      "cell_type": "markdown",
      "metadata": {
        "id": "O7OxRIcjbcmk"
      },
      "source": [
        "### Final Problem\n",
        "**You are driving a little too fast, and a police officer stops you. Write a function\n",
        "  to return one of 3 possible results: \"No ticket\", \"Small ticket\", or \"Big Ticket\".\n",
        "  If your speed is 60 or less, the result is \"No Ticket\". If speed is between 61\n",
        "  and 80 inclusive, the result is \"Small Ticket\". If speed is 81 or more, the result is \"Big    Ticket\". Unless it is your birthday (encoded as a boolean value in the parameters of the function) -- on your birthday, your speed can be 5 higher in all\n",
        "  cases. **"
      ]
    },
    {
      "cell_type": "code",
      "execution_count": null,
      "metadata": {
        "collapsed": true,
        "id": "rk-BzI_Kbcmk"
      },
      "outputs": [],
      "source": [
        "def caught_speeding(speed, is_birthday):\n",
        " if speed <= 60 or (is_birthday == True and speed<=65):\n",
        "  print(\"No Ticket\")\n",
        " elif (speed >=61 and speed<=80) or (is_birthday == True and speed >=66 and speed<=85):\n",
        "  print(\"Small Ticket\")\n",
        " elif (speed >=81) or (is_birthday ==True and speed >= 85):\n",
        "  print(\"Big Ticket\")"
      ]
    },
    {
      "cell_type": "code",
      "execution_count": null,
      "metadata": {
        "id": "wsjEZwprbcmk",
        "outputId": "bb1ca0ab-9f71-4b2a-aa6e-df1015477d0a"
      },
      "outputs": [
        {
          "data": {
            "text/plain": [
              "'Small Ticket'"
            ]
          },
          "execution_count": 42,
          "metadata": {},
          "output_type": "execute_result"
        }
      ],
      "source": [
        "caught_speeding(81,True)"
      ]
    },
    {
      "cell_type": "code",
      "execution_count": null,
      "metadata": {
        "id": "VU0zq5Dubcmk",
        "outputId": "1f36f48c-2712-41df-c8e6-1afdaa08a3bb"
      },
      "outputs": [
        {
          "data": {
            "text/plain": [
              "'Big Ticket'"
            ]
          },
          "execution_count": 43,
          "metadata": {},
          "output_type": "execute_result"
        }
      ],
      "source": [
        "caught_speeding(81,False)"
      ]
    },
    {
      "cell_type": "markdown",
      "metadata": {
        "id": "1ElIqN8dbcmk"
      },
      "source": [
        "# Great job!"
      ]
    }
  ],
  "metadata": {
    "kernelspec": {
      "display_name": "Python 3",
      "language": "python",
      "name": "python3"
    },
    "language_info": {
      "codemirror_mode": {
        "name": "ipython",
        "version": 3
      },
      "file_extension": ".py",
      "mimetype": "text/x-python",
      "name": "python",
      "nbconvert_exporter": "python",
      "pygments_lexer": "ipython3",
      "version": "3.6.2"
    },
    "colab": {
      "provenance": []
    }
  },
  "nbformat": 4,
  "nbformat_minor": 0
}